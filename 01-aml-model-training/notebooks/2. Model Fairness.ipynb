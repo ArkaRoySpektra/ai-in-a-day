{
 "cells": [
  {
   "cell_type": "markdown",
   "metadata": {
    "application/vnd.databricks.v1+cell": {
     "inputWidgets": {},
     "nuid": "9cd21089-49e3-4d1d-81de-96ec4813fc9d",
     "showTitle": false,
     "title": ""
    }
   },
   "source": [
    "Install the Azure Machine Learning SDK with AutoML."
   ]
  },
  {
   "cell_type": "code",
   "execution_count": null,
   "metadata": {
    "application/vnd.databricks.v1+cell": {
     "inputWidgets": {},
     "nuid": "04623274-76f6-4b68-9c27-1eee6bd6f9b6",
     "showTitle": false,
     "title": ""
    },
    "jupyter": {
     "outputs_hidden": true
    },
    "scrolled": true
   },
   "outputs": [],
   "source": [
    "%pip install --upgrade --force-reinstall -r https://aka.ms/automl_linux_requirements.txt"
   ]
  },
  {
   "cell_type": "markdown",
   "metadata": {
    "application/vnd.databricks.v1+cell": {
     "inputWidgets": {},
     "nuid": "52ea071b-f77f-4722-bb37-299a0537a6dd",
     "showTitle": false,
     "title": ""
    }
   },
   "source": [
    "Install the Azure ML Interpretability library."
   ]
  },
  {
   "cell_type": "code",
   "execution_count": null,
   "metadata": {
    "application/vnd.databricks.v1+cell": {
     "inputWidgets": {},
     "nuid": "a334dd00-b5ce-4526-a8fb-062e63d28584",
     "showTitle": false,
     "title": ""
    },
    "jupyter": {
     "outputs_hidden": true
    }
   },
   "outputs": [],
   "source": [
    "%pip install azureml-interpret"
   ]
  },
  {
   "cell_type": "markdown",
   "metadata": {
    "application/vnd.databricks.v1+cell": {
     "inputWidgets": {},
     "nuid": "4956fbb4-8aee-41f9-8023-629115505dd6",
     "showTitle": false,
     "title": ""
    }
   },
   "source": [
    "Install support for the explainability dashboard."
   ]
  },
  {
   "cell_type": "code",
   "execution_count": null,
   "metadata": {
    "jupyter": {
     "outputs_hidden": true
    }
   },
   "outputs": [],
   "source": [
    "%pip install plotly"
   ]
  },
  {
   "cell_type": "code",
   "execution_count": null,
   "metadata": {
    "application/vnd.databricks.v1+cell": {
     "inputWidgets": {},
     "nuid": "54d86c21-bdd5-45ed-92e2-9d8134bcae05",
     "showTitle": false,
     "title": ""
    },
    "jupyter": {
     "outputs_hidden": true
    },
    "scrolled": true
   },
   "outputs": [],
   "source": [
    "%pip install interpret-community[visualization]"
   ]
  },
  {
   "cell_type": "markdown",
   "metadata": {
    "application/vnd.databricks.v1+cell": {
     "inputWidgets": {},
     "nuid": "351a800d-9300-4bc1-8105-c6b46aca272d",
     "showTitle": false,
     "title": ""
    }
   },
   "source": [
    "Provide information to connect to the Azure Machine Learning workspace."
   ]
  },
  {
   "cell_type": "code",
   "execution_count": null,
   "metadata": {
    "application/vnd.databricks.v1+cell": {
     "inputWidgets": {},
     "nuid": "23f2e283-23f8-4b73-bfeb-4a992f189b2a",
     "showTitle": false,
     "title": ""
    },
    "gather": {
     "logged": 1606487617785
    }
   },
   "outputs": [],
   "source": [
    "from azureml.core import Workspace, Experiment, Datastore, Dataset\n",
    "from azureml.train.automl.run import AutoMLRun\n",
    "import azureml.train.automl\n",
    "import azureml.train.automl.runtime\n",
    "import numpy as np\n",
    "import pandas as pd\n",
    "import matplotlib.pylab as plt \n",
    "\n",
    "#Provide the Subscription ID of your existing Azure subscription\n",
    "subscription_id = \"\" # <- subscription you are using for this hands-on lab\n",
    "\n",
    "#Replace the name below with the name of your resource group \n",
    "resource_group = \"MCW-Machine-Learning\"\n",
    "\n",
    "#Replace the name below with the name of your Azure Machine Learning workspace\n",
    "workspace_name = \"ai-in-a-day\"\n",
    "\n",
    "experiment_name = 'Car-Maintenance'\n",
    "dataset_name = 'CarMaintenance'"
   ]
  },
  {
   "cell_type": "markdown",
   "metadata": {
    "application/vnd.databricks.v1+cell": {
     "inputWidgets": {},
     "nuid": "6fe161f9-2ed1-4c8d-b428-a5ed43ce6858",
     "showTitle": false,
     "title": ""
    }
   },
   "source": [
    "## Connect to the Azure Machine Learning workspace\n",
    "\n",
    "**Important note for workspace authentication**\n",
    "\n",
    "If you have access to multiple tenants, you may need to import the `InteractiveLoginAuthentication` class and explicitly define what tenant you are targeting. Uncomment the first two lines of the cell below to force interactive authentication.\n",
    "\n",
    "For mode details, see https://docs.microsoft.com/en-us/azure/machine-learning/how-to-setup-authentication."
   ]
  },
  {
   "cell_type": "code",
   "execution_count": null,
   "metadata": {
    "application/vnd.databricks.v1+cell": {
     "inputWidgets": {},
     "nuid": "9c7627c0-8121-4caf-8756-4ce633af285a",
     "showTitle": false,
     "title": ""
    },
    "gather": {
     "logged": 1606487622102
    }
   },
   "outputs": [],
   "source": [
    "#from azureml.core.authentication import InteractiveLoginAuthentication\n",
    "#interactive_auth = InteractiveLoginAuthentication(tenant_id=\"<azure_ad_tenant_id>\")\n",
    "\n",
    "# Connect to the Azure ML Workspace\n",
    "ws = Workspace(subscription_id, resource_group, workspace_name)\n",
    "\n",
    "# In case you previously used a different name for the Azure Machine Learning experiment, replace the name below with that name.\n",
    "experiment = Experiment(ws, experiment_name)\n",
    "\n",
    "# Connect to the AutoML experiment and list the runs associated with the experiment.\n",
    "list(experiment.get_runs())"
   ]
  },
  {
   "cell_type": "markdown",
   "metadata": {
    "application/vnd.databricks.v1+cell": {
     "inputWidgets": {},
     "nuid": "5c6feaa8-5c79-44d5-8a97-7da4ef7ab55f",
     "showTitle": false,
     "title": ""
    }
   },
   "source": [
    "Identify the latest run with a status of `Completed`, and use its `Id` to get the best model."
   ]
  },
  {
   "cell_type": "code",
   "execution_count": null,
   "metadata": {
    "application/vnd.databricks.v1+cell": {
     "inputWidgets": {},
     "nuid": "7c6361b2-7354-4a2d-bcd2-0ee57522f899",
     "showTitle": false,
     "title": ""
    },
    "gather": {
     "logged": 1606299176488
    },
    "jupyter": {
     "outputs_hidden": true
    }
   },
   "outputs": [],
   "source": [
    "# Replace `<automl_run_id>` below with the `Id` of the latest completed run\n",
    "automl_run = AutoMLRun(experiment, run_id = '<automl_run_id>')\n",
    "\n",
    "best_run, best_model = automl_run.get_output()\n",
    "best_model"
   ]
  },
  {
   "cell_type": "markdown",
   "metadata": {
    "application/vnd.databricks.v1+cell": {
     "inputWidgets": {},
     "nuid": "1500c962-57de-4c3b-861e-72b5e8dec1a7",
     "showTitle": false,
     "title": ""
    }
   },
   "source": [
    "Load the dataset used to train the model with AutoML."
   ]
  },
  {
   "cell_type": "code",
   "execution_count": null,
   "metadata": {
    "application/vnd.databricks.v1+cell": {
     "inputWidgets": {},
     "nuid": "dd7c49a1-d158-42b2-8d2a-16ff1c15b2f8",
     "showTitle": false,
     "title": ""
    },
    "gather": {
     "logged": 1606299176919
    }
   },
   "outputs": [],
   "source": [
    "car_maintenance_ds = Dataset.get_by_name(ws, dataset_name)\n",
    "car_maintenance_df = car_maintenance_ds.to_pandas_dataframe()\n",
    "car_maintenance_df"
   ]
  },
  {
   "cell_type": "code",
   "execution_count": null,
   "metadata": {},
   "outputs": [],
   "source": [
    "X = car_maintenance_df.drop(columns=['has-issue-in-first-10k'])\n",
    "y_true = car_maintenance_df['has-issue-in-first-10k'].astype(int)\n",
    "y_pred = best_model.predict(car_maintenance_df.drop(columns=['has-issue-in-first-10k'])).astype(int)"
   ]
  },
  {
   "cell_type": "code",
   "execution_count": null,
   "metadata": {},
   "outputs": [],
   "source": [
    "np.unique(y_pred)"
   ]
  },
  {
   "cell_type": "code",
   "execution_count": null,
   "metadata": {
    "scrolled": false
   },
   "outputs": [],
   "source": [
    "from fairlearn.widget import FairlearnDashboard\n",
    "FairlearnDashboard(sensitive_features=car_maintenance_df['gender'], \n",
    "                   sensitive_feature_names=['gender'],\n",
    "                   y_true=y_true,\n",
    "                   y_pred=y_pred)"
   ]
  },
  {
   "cell_type": "code",
   "execution_count": null,
   "metadata": {},
   "outputs": [],
   "source": [
    "X"
   ]
  },
  {
   "cell_type": "code",
   "execution_count": null,
   "metadata": {},
   "outputs": [],
   "source": [
    "#  Create a dictionary of model(s) you want to assess for fairness \n",
    "sf = { 'Gender': X['gender'] }\n",
    "\n",
    "y_pr = { 'lr_reg_id': y_pred }\n",
    "\n",
    "from fairlearn.metrics._group_metric_set import _create_group_metric_set\n",
    "\n",
    "dash_dict = _create_group_metric_set(y_true=y_true,\n",
    "                                    predictions=y_pr,\n",
    "                                    sensitive_features=sf,\n",
    "                                    prediction_type='binary_classification')\n",
    "\n",
    "\n"
   ]
  },
  {
   "cell_type": "code",
   "execution_count": null,
   "metadata": {},
   "outputs": [],
   "source": [
    "from azureml.contrib.fairness import upload_dashboard_dictionary, download_dashboard_by_upload_id"
   ]
  },
  {
   "cell_type": "code",
   "execution_count": null,
   "metadata": {},
   "outputs": [],
   "source": [
    "run = experiment.start_logging()\n",
    "# run.start()\n",
    "\n",
    "# Upload the dashboard to Azure Machine Learning\n",
    "try:\n",
    "    dashboard_title = \"Fairness insights of Logistic Regression Classifier\"\n",
    "    # Set validate_model_ids parameter of upload_dashboard_dictionary to False if you have not registered your model(s)\n",
    "    upload_id = upload_dashboard_dictionary(run,\n",
    "                                            dash_dict,\n",
    "                                            dashboard_name=dashboard_title,\n",
    "                                           validate_model_ids=False)\n",
    "    print(\"\\nUploaded to id: {0}\\n\".format(upload_id))\n",
    "\n",
    "    # To test the dashboard, you can download it back and ensure it contains the right information\n",
    "    downloaded_dict = download_dashboard_by_upload_id(run, upload_id)\n",
    "finally:\n",
    "    run.complete()\n"
   ]
  },
  {
   "cell_type": "code",
   "execution_count": null,
   "metadata": {},
   "outputs": [],
   "source": []
  }
 ],
 "metadata": {
  "application/vnd.databricks.v1+notebook": {
   "dashboards": [],
   "language": "python",
   "notebookName": "5.0 Model Interpretability",
   "notebookOrigID": 4218630377725978,
   "widgets": {}
  },
  "kernel_info": {
   "name": "python3-azureml"
  },
  "kernelspec": {
   "display_name": "Python 3.6 - AzureML",
   "language": "python",
   "name": "python3-azureml"
  },
  "language_info": {
   "codemirror_mode": {
    "name": "ipython",
    "version": 3
   },
   "file_extension": ".py",
   "mimetype": "text/x-python",
   "name": "python",
   "nbconvert_exporter": "python",
   "pygments_lexer": "ipython3",
   "version": "3.6.9"
  },
  "nteract": {
   "version": "nteract-front-end@1.0.0"
  }
 },
 "nbformat": 4,
 "nbformat_minor": 4
}
