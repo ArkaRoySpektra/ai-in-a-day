{
 "cells": [
  {
   "cell_type": "markdown",
   "metadata": {},
   "source": [
    "This notebook will guide you through a list of steps needed to prepare a time series-based dataset containing JSON files to be fed into the Metrics Advisor workspace. Each JSON file will contain daily data representing the count of COVID positive cases by age group."
   ]
  },
  {
   "cell_type": "markdown",
   "metadata": {},
   "source": [
    "First, let's import the requires libraries and namespaces."
   ]
  },
  {
   "cell_type": "code",
   "execution_count": 1,
   "metadata": {},
   "outputs": [
    {
     "name": "stdout",
     "output_type": "stream",
     "text": [
      "pandas version: 1.1.5 numpy version: 1.18.5\n",
      "azureml SDK version: 1.20.0\n"
     ]
    }
   ],
   "source": [
    "import pandas as pd\n",
    "import numpy as np\n",
    "import datetime\n",
    "import os\n",
    "import math\n",
    "import timeit\n",
    "from io import StringIO\n",
    "import re\n",
    "import urllib.request, json\n",
    "\n",
    "print(\"pandas version: {} numpy version: {}\".format(pd.__version__, np.__version__))\n",
    "\n",
    "import os\n",
    "import azureml.core\n",
    "from azureml.core import Workspace, Datastore, Dataset\n",
    "# Check core SDK version number\n",
    "print(\"azureml SDK version:\", azureml.core.VERSION)"
   ]
  },
  {
   "cell_type": "code",
   "execution_count": null,
   "metadata": {},
   "outputs": [],
   "source": [
    "#Provide the Subscription ID of your existing Azure subscription\n",
    "subscription_id = \"<SUBSCRIPTION>\"\n",
    "\n",
    "#Provide values for the existing Resource Group \n",
    "resource_group = \"<RESOURCEGROUP>\"\n",
    "\n",
    "#Provide the Workspace Name and Azure Region of the Azure Machine Learning Workspace\n",
    "workspace_name = \"<MACHINELEARNING_WORKSPACE>\"\n",
    "workspace_region = \"<MACHINELEARNING_WORKSPACE_REGION>\"\n",
    "\n",
    "#Provide values for the existing blob storage account name and key\n",
    "blob_account_key = \"<BLOBSTORAGE_ACCOUNT_KEY>\"\n",
    "blob_account_name = \"<BLOBSTORAGE_ACCOUNT_KEY>\""
   ]
  },
  {
   "cell_type": "code",
   "execution_count": null,
   "metadata": {},
   "outputs": [],
   "source": [
    "\n",
    "\n",
    "blob_datastore_name='covid_datastore' # Name of the datastore to workspace\n",
    "container_name=os.getenv(\"BLOB_CONTAINER\", \"jsonmetrics\") # Name of Azure blob container\n",
    "account_name=os.getenv(\"BLOB_ACCOUNTNAME\",  blob_account_name ) # Storage account name\n",
    "account_key=os.getenv(\"BLOB_ACCOUNT_KEY\", blob_account_key) # Storage account access key\n"
   ]
  },
  {
   "cell_type": "code",
   "execution_count": null,
   "metadata": {},
   "outputs": [],
   "source": [
    "url = (\"https://quickstartsws9073123377.blob.core.windows.net/\"\n",
    "       \"azureml-blobstore-0d1c4218-a5f9-418b-bf55-902b65277b85/\"\n",
    "       \"COVID19_Case_Surveillance_Data/COVID-19_Case_Surveillance_Public_Use_Data.csv\")"
   ]
  },
  {
   "cell_type": "code",
   "execution_count": null,
   "metadata": {},
   "outputs": [],
   "source": [
    "#register the datastore where the Metrics Advisor data feed will be generated\n",
    "ws = Workspace(subscription_id=subscription_id,\n",
    "               resource_group=resource_group,\n",
    "               workspace_name=workspace_name)\n",
    "\n",
    "blob_datastore = Datastore.register_azure_blob_container(workspace=ws, \n",
    "                                                         datastore_name=blob_datastore_name, \n",
    "                                                         container_name=container_name, \n",
    "                                                         account_name=account_name,\n",
    "                                                         account_key=account_key)"
   ]
  },
  {
   "cell_type": "code",
   "execution_count": null,
   "metadata": {},
   "outputs": [],
   "source": [
    "df = pd.read_csv(url)\n",
    "len(df)"
   ]
  },
  {
   "cell_type": "code",
   "execution_count": null,
   "metadata": {},
   "outputs": [],
   "source": [
    "df.columns"
   ]
  },
  {
   "cell_type": "code",
   "execution_count": null,
   "metadata": {},
   "outputs": [],
   "source": [
    "#prepare the timestamp column in the expected format for the Metrics Advisor ingestion process\n",
    "df['datekey'] =  pd.to_datetime(df['cdc_report_dt']).dt.strftime('%Y-%m-%d')"
   ]
  },
  {
   "cell_type": "code",
   "execution_count": null,
   "metadata": {},
   "outputs": [],
   "source": [
    "dfgroup = df.groupby(['datekey','age_group','death_yn']).size().to_frame()\n",
    "dfgroup.head(10)\n"
   ]
  },
  {
   "cell_type": "code",
   "execution_count": null,
   "metadata": {},
   "outputs": [],
   "source": [
    "dfflat = dfgroup.reset_index()\n",
    "dfflat.head(10)"
   ]
  },
  {
   "cell_type": "code",
   "execution_count": null,
   "metadata": {},
   "outputs": [],
   "source": [
    "\n",
    "dfgroup = df.groupby(['datekey']).size().to_frame()\n",
    "dfgroup.head(10)"
   ]
  },
  {
   "cell_type": "code",
   "execution_count": null,
   "metadata": {},
   "outputs": [],
   "source": [
    "from pandas.io.json import json_normalize\n",
    "\n",
    "dfflat['count'] = dfflat[0].apply(str)\n",
    "dfflat = dfflat.drop(columns=[0])\n"
   ]
  },
  {
   "cell_type": "code",
   "execution_count": null,
   "metadata": {},
   "outputs": [],
   "source": [
    "#create the daily json file for data ingestion in Metrics Advisor\n",
    "for row in dfgroup.axes[0]:\n",
    "    print(row)\n",
    "    is_date =  dfflat['datekey']==row\n",
    "    df_date = dfflat[is_date]\n",
    "    resultJSON = df_date.to_json(orient='records', date_format='%Y-%m-%d')\n",
    "    filename_processed_json =  f'covid_age_death/{row}.json'\n",
    "    with open(filename_processed_json, 'w') as f:\n",
    "        f.write(resultJSON)"
   ]
  },
  {
   "cell_type": "code",
   "execution_count": null,
   "metadata": {},
   "outputs": [],
   "source": [
    "#upload the folder containing the generated json files to the blob storage container\n",
    "blob_datastore.upload('./covid_age_death', \n",
    "                 target_path = '', \n",
    "                 overwrite = True, \n",
    "                 show_progress = True)"
   ]
  },
  {
   "cell_type": "markdown",
   "metadata": {},
   "source": [
    "!!!OPTIONAL STEPS!!!: Create the Azure Blob Data Feed (manually performed in this lab using the web-based workspace portal)"
   ]
  },
  {
   "cell_type": "code",
   "execution_count": null,
   "metadata": {},
   "outputs": [],
   "source": [
    "pip install azure-ai-metricsadvisor --pre"
   ]
  },
  {
   "cell_type": "code",
   "execution_count": null,
   "metadata": {},
   "outputs": [],
   "source": [
    "subscription_key = \"<MADV-SUBSCRIPTIONKEY>\" #from Azure portal, metrics advisor created resource , from the left menu go to Keys and Endpoint page\n",
    "api_key = \"<MADV-APIKEY>\" #from the metrics advisor portal, from the left menu go to API keys page\n",
    "service_endpoint = \"https://<MADV-ACCOUNT>.cognitiveservices.azure.com/\" #go to keys and endpoint in the azure portal->metrics advisor resource\n",
    "storage_accountkey = \"<BLOBSTORAGEACCOUNTKEY>\" #Azure portal -> blob storage -> Access keys\n"
   ]
  },
  {
   "cell_type": "code",
   "execution_count": null,
   "metadata": {},
   "outputs": [],
   "source": [
    "from azure.ai.metricsadvisor import MetricsAdvisorKeyCredential, MetricsAdvisorAdministrationClient\n",
    "from azure.ai.metricsadvisor.models import (\n",
    "        AzureBlobDataFeed,\n",
    "        DataFeedSchema,\n",
    "        DataFeedMetric,\n",
    "        DataFeedDimension,\n",
    "        DataFeedOptions,\n",
    "        DataFeedRollupSettings,\n",
    "        DataFeedMissingDataPointFillSettings\n",
    "    )\n",
    "\n",
    "blobstorage_connection_string = f\"DefaultEndpointsProtocol=https;AccountName=mcwmachinelear1659324051;AccountKey={storage_accountkey};EndpointSuffix=core.windows.net\"\n",
    "blob_container = \"jsonmetrics\"\n",
    "blobtemplate = \"%Y-%m-%d.json\"\n",
    "#templateversion = \"v2\"\n",
    "\n",
    "client = MetricsAdvisorAdministrationClient(service_endpoint,MetricsAdvisorKeyCredential(subscription_key, api_key))\n",
    "\n",
    "data_feed = client.create_data_feed(\n",
    "    name=\"covid-dailybyage-feed-fromcode\",\n",
    "    source=AzureBlobDataFeed(\n",
    "        connection_string = blobstorage_connection_string, \n",
    "        container = blob_container, \n",
    "        blob_template = blobtemplate,\n",
    "        #missing jsonFormatVersion = v2 (property is not exposed in the constructor)\n",
    "    ),\n",
    "    \n",
    "    granularity=\"Daily\",\n",
    "    schema=DataFeedSchema(\n",
    "        metrics=[\n",
    "            DataFeedMetric(name=\"count\", display_name=\"Count\")\n",
    "        ],\n",
    "        dimensions=[\n",
    "            DataFeedDimension(name=\"age_group\", display_name=\"Age Group\"),\n",
    "            DataFeedDimension(name=\"death_yn\", display_name=\"Death\")\n",
    "        ],\n",
    "        timestamp='dateKey'\n",
    "    ),\n",
    "    ingestion_settings=datetime.datetime(2020, 1, 1),\n",
    "    options=DataFeedOptions(\n",
    "        data_feed_description=\"cases by age data feed\",\n",
    "        rollup_settings=DataFeedRollupSettings(\n",
    "            rollup_type=\"AutoRollup\",\n",
    "            rollup_method=\"Sum\",\n",
    "            rollup_identification_value=\"__CUSTOM_SUM__\"\n",
    "        ),\n",
    "        missing_data_point_fill_settings=DataFeedMissingDataPointFillSettings(\n",
    "            fill_type=\"SmartFilling\"\n",
    "        )\n",
    "    )\n",
    ")"
   ]
  },
  {
   "cell_type": "code",
   "execution_count": null,
   "metadata": {},
   "outputs": [],
   "source": []
  }
 ],
 "metadata": {
  "kernel_info": {
   "name": "python3-azureml"
  },
  "kernelspec": {
   "display_name": "Python 3.6 - AzureML",
   "language": "python",
   "name": "python3-azureml"
  },
  "language_info": {
   "codemirror_mode": {
    "name": "ipython",
    "version": 3
   },
   "file_extension": ".py",
   "mimetype": "text/x-python",
   "name": "python",
   "nbconvert_exporter": "python",
   "pygments_lexer": "ipython3",
   "version": "3.6.9"
  },
  "nteract": {
   "version": "nteract-front-end@1.0.0"
  }
 },
 "nbformat": 4,
 "nbformat_minor": 4
}
